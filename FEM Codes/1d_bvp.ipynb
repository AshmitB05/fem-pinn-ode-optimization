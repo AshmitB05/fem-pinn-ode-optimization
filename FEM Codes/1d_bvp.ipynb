{
 "cells": [
  {
   "cell_type": "code",
   "execution_count": 23,
   "id": "b4548ac8",
   "metadata": {},
   "outputs": [],
   "source": [
    "# 1d boundary value problem for general 2nd order differential equation fem solver using linear finite element spaces . imposed boundary conditions are y(0)=y(1)=0. "
   ]
  },
  {
   "cell_type": "code",
   "execution_count": 24,
   "id": "2e1a4fdd",
   "metadata": {},
   "outputs": [],
   "source": [
    "import sympy as sp"
   ]
  },
  {
   "cell_type": "code",
   "execution_count": 25,
   "id": "e71c9bcc",
   "metadata": {},
   "outputs": [],
   "source": [
    "#input required are a(x),b(x),c(x),f(x) and N for the number of elements"
   ]
  },
  {
   "cell_type": "code",
   "execution_count": 26,
   "id": "07797f64",
   "metadata": {},
   "outputs": [],
   "source": [
    "N=int(input(\"enter the number of elements\"))\n",
    "domain=[]    \n",
    "for i in range(N+1):\n",
    "    domain.append(i/N)\n"
   ]
  },
  {
   "cell_type": "code",
   "execution_count": 27,
   "id": "ff15be16",
   "metadata": {},
   "outputs": [],
   "source": [
    "#Linear basis functions are getting created."
   ]
  },
  {
   "cell_type": "code",
   "execution_count": 28,
   "id": "bd89eb6a",
   "metadata": {},
   "outputs": [],
   "source": [
    "x=sp.Symbol(\"x\")\n",
    "function=[]\n",
    "for i in range(N-1):\n",
    "    expr=[]\n",
    "    for j in range(N):\n",
    "        if(i==j):\n",
    "            f1=(x-domain[i])/(domain[i+1]-domain[i])\n",
    "            expr.append(f1)\n",
    "        elif(j==(i+1)):\n",
    "            f2=(domain[i+2]-x)/(domain[i+2]-domain[i+1])\n",
    "            expr.append(f2)\n",
    "        else:\n",
    "            expr.append(0)\n",
    "    function.append(expr)\n"
   ]
  },
  {
   "cell_type": "code",
   "execution_count": 29,
   "id": "b3b69b6c",
   "metadata": {},
   "outputs": [
    {
     "name": "stdout",
     "output_type": "stream",
     "text": [
      "1 0 0 2\n"
     ]
    }
   ],
   "source": [
    "a_x=input(\"enter a(x): \")\n",
    "a_x=sp.sympify(a_x)\n",
    "b_x=input(\"enter b(x): \")\n",
    "b_x=sp.sympify(b_x)\n",
    "c_x=input(\"enter c(x): \")\n",
    "c_x=sp.sympify(c_x)\n",
    "f_x=input(\"enter f(x): \")\n",
    "f_x=sp.sympify(f_x)\n",
    "print(a_x,b_x,c_x,f_x)"
   ]
  },
  {
   "cell_type": "code",
   "execution_count": 30,
   "id": "da59fa8d",
   "metadata": {},
   "outputs": [],
   "source": [
    "#simpson 1/3rd rule is used for integration in the fem.\n",
    "def simpson13(f,a,b,n):\n",
    "    h=(b-a)/n\n",
    "    result=f(a)+f(b)\n",
    "    for i in range(1,n):\n",
    "        x=a+i*h\n",
    "        if(i%2==0):\n",
    "            result=result+2*f(x)\n",
    "        else:\n",
    "            result=result+4*f(x)\n",
    "    result=result*(h/3)\n",
    "    return result"
   ]
  },
  {
   "cell_type": "code",
   "execution_count": 31,
   "id": "3d89e4ba",
   "metadata": {},
   "outputs": [],
   "source": [
    "#force matrix creation\n",
    "b=[]\n",
    "for i in range(N-1):\n",
    "    y_1=f_x*function[i][i]\n",
    "    f_1 = sp.lambdify(x, y_1, modules=['math'])\n",
    "    r_1=simpson13(f_1,i/N,(i+1)/N,2)\n",
    "    y_2=f_x*function[i][i+1]\n",
    "    f_2 = sp.lambdify(x, y_2, modules=['math'])\n",
    "    r_2=simpson13(f_2,(i+1)/N,(i+2)/N,2)\n",
    "    r=r_1+r_2\n",
    "    b.append(r)\n"
   ]
  },
  {
   "cell_type": "code",
   "execution_count": 32,
   "id": "c697c365",
   "metadata": {},
   "outputs": [],
   "source": [
    "#stiffness matrix creation\n",
    "A=[]\n",
    "for i in range(N-1):\n",
    "    expr=[]\n",
    "    for j in range(N-1):\n",
    "        if(i==0):\n",
    "            if(j==0):\n",
    "                p1=sp.diff(function[0][0],x)\n",
    "                ad=sp.diff(a_x,x)\n",
    "                f_1=a_x*p1*p1+(b_x)*p1*function[0][0]+c_x*function[0][0]*function[0][0]\n",
    "                y1 = sp.lambdify(x, f_1, modules=['math'])\n",
    "                r1=simpson13(y1,0,1/N,4)\n",
    "                p2=sp.diff(function[0][1],x)\n",
    "                f_2=a_x*p2*p2+(b_x)*p2*function[0][1]+c_x*function[0][1]*function[0][1]\n",
    "                y2 = sp.lambdify(x, f_2, modules=['math'])\n",
    "                r2=simpson13(y2,1/N,2/N,4)\n",
    "                r=r1+r2\n",
    "                expr.append(r)\n",
    "            elif(j==1):\n",
    "                p1=sp.diff(function[0][1],x)\n",
    "                p2=sp.diff(function[1][1],x)\n",
    "                ad=sp.diff(a_x,x)\n",
    "                f_1=a_x*p1*p2+(b_x)*p2*function[0][1]+c_x*function[1][1]*function[0][1]\n",
    "                y1 = sp.lambdify(x, f_1, modules=['math'])\n",
    "                r1=simpson13(y1,1/N,2/N,4)\n",
    "                expr.append(r1)\n",
    "            else:\n",
    "                expr.append(0)\n",
    "        elif(i==(N-2)):\n",
    "            if(j==(N-2)):\n",
    "                p1=sp.diff(function[N-2][N-2],x)\n",
    "                ad=sp.diff(a_x,x)\n",
    "                f_1=a_x*p1*p1+(b_x)*p1*function[N-2][N-2]+c_x*function[N-2][N-2]*function[N-2][N-2]\n",
    "                y1 = sp.lambdify(x, f_1, modules=['math'])\n",
    "                r1=simpson13(y1,(N-2)/N,(N-1)/N,4)\n",
    "                p2=sp.diff(function[N-2][N-1],x)\n",
    "                f_2=a_x*p2*p2+(b_x)*p2*function[N-2][N-1]+c_x*function[N-2][N-1]*function[N-2][N-1]\n",
    "                y2 = sp.lambdify(x, f_2, modules=['math'])\n",
    "                r2=simpson13(y2,(N-1)/N,1,4)\n",
    "                r=r1+r2\n",
    "                expr.append(r)\n",
    "            elif(j==(N-3)):\n",
    "                p1=sp.diff(function[N-3][N-2],x)\n",
    "                p2=sp.diff(function[N-2][N-2],x)\n",
    "                ad=sp.diff(a_x,x)\n",
    "                f_1=a_x*p1*p2+(b_x)*p1*function[N-2][N-2]+c_x*function[N-3][N-2]*function[N-2][N-2]\n",
    "                y1 = sp.lambdify(x, f_1, modules=['math'])\n",
    "                r1=simpson13(y1,(N-2)/N,(N-1)/N,4)\n",
    "                expr.append(r1)\n",
    "            else:\n",
    "                expr.append(0)\n",
    "        else:\n",
    "            if(i==j):\n",
    "                p1=sp.diff(function[i][i],x)\n",
    "                ad=sp.diff(a_x,x)\n",
    "                f_1=a_x*p1*p1+(b_x)*p1*function[i][i]+c_x*function[i][i]*function[i][i]\n",
    "                y1 = sp.lambdify(x, f_1, modules=['math'])\n",
    "                r1=simpson13(y1,(i)/N,(i+1)/N,4)\n",
    "                p2=sp.diff(function[i][i+1],x)\n",
    "                f_2=a_x*p2*p2+(b_x)*p2*function[i][i+1]+c_x*function[i][i+1]*function[i][i+1]\n",
    "                y2 = sp.lambdify(x, f_2, modules=['math'])\n",
    "                r2=simpson13(y2,(i+1)/N,(i+2)/N,4)\n",
    "                r=r1+r2\n",
    "                expr.append(r)\n",
    "            elif(j==(i-1)):\n",
    "                p1=sp.diff(function[j][i],x)\n",
    "                p2=sp.diff(function[i][i],x)\n",
    "                ad=sp.diff(a_x,x)\n",
    "                f_1=a_x*p1*p2+(b_x)*p1*function[i][i]+c_x*function[j][i]*function[i][i]\n",
    "                y1 = sp.lambdify(x, f_1, modules=['math'])\n",
    "                r1=simpson13(y1,(i)/N,(i+1)/N,4)\n",
    "                expr.append(r1)\n",
    "            elif(j==(i+1)):\n",
    "                p1=sp.diff(function[i][j],x)\n",
    "                p2=sp.diff(function[j][j],x)\n",
    "                ad=sp.diff(a_x,x)\n",
    "                f_1=a_x*p1*p2+(b_x)*p2*function[i][j]+c_x*function[i][j]*function[j][j]\n",
    "                y1 = sp.lambdify(x, f_1, modules=['math'])\n",
    "                r1=simpson13(y1,(i+1)/N,(i+2)/N,4)\n",
    "                expr.append(r1)\n",
    "            else:\n",
    "                expr.append(0)\n",
    "    A.append(expr)\n",
    "        \n",
    "        \n"
   ]
  },
  {
   "cell_type": "code",
   "execution_count": 33,
   "id": "60cc7086",
   "metadata": {},
   "outputs": [],
   "source": [
    "#solving for the unknowns\n",
    "import numpy as np\n",
    "A=np.array(A)\n",
    "b=np.array(b)\n",
    "x=np.linalg.solve(A,b)\n"
   ]
  },
  {
   "cell_type": "code",
   "execution_count": null,
   "id": "781d5377",
   "metadata": {},
   "outputs": [],
   "source": [
    "#useful as it is a tridiagonal matrix\n",
    "import scipy \n",
    "from scipy.sparse import csc_matrix\n",
    "from scipy.sparse.linalg import spsolve\n",
    "\n",
    "A1 = csc_matrix(A)\n",
    "x = spsolve(A1, b)\n",
    "\n",
    "\n"
   ]
  },
  {
   "cell_type": "code",
   "execution_count": 35,
   "id": "3dc84625",
   "metadata": {},
   "outputs": [],
   "source": [
    "for i in range(N-1):\n",
    "    for j in range(N):\n",
    "        function[i][j]=function[i][j]*x[i]\n"
   ]
  },
  {
   "cell_type": "code",
   "execution_count": 36,
   "id": "be3764c2",
   "metadata": {},
   "outputs": [
    {
     "data": {
      "image/png": "[encoded data removed]",
      "text/plain": [
       "<Figure size 640x480 with 1 Axes>"
      ]
     },
     "metadata": {},
     "output_type": "display_data"
    }
   ],
   "source": [
    "#plotting \n",
    "x=sp.Symbol(\"x\")\n",
    "plotarg=[]\n",
    "for i in range(N-1):\n",
    "    for j in range(N):\n",
    "        if(i==j==0):\n",
    "            plotarg.append((function[0][0],(x,0,1/N)))\n",
    "        elif(i==N-2 and j==N-1):\n",
    "            plotarg.append((function[i][j],(x,(N-1)/N,1)))\n",
    "        elif(i==j!=0):\n",
    "            plotarg.append((function[i-1][j]+function[i][j],(x,(j)/N,(j+1)/N)))\n",
    "\n",
    "p = sp.plot(*plotarg, show=False)\n",
    "p.show()      \n",
    "            "
   ]
  },
  {
   "cell_type": "code",
   "execution_count": 37,
   "id": "71c82dcc",
   "metadata": {},
   "outputs": [
    {
     "data": {
      "image/png": "[encoded data removed]",
      "text/plain": [
       "<Figure size 640x480 with 1 Axes>"
      ]
     },
     "metadata": {},
     "output_type": "display_data"
    }
   ],
   "source": [
    "#exact solution in this case\n",
    "x=sp.Symbol(\"x\")\n",
    "p = sp.plot(\n",
    "    (x*(1-x), (x, 0, 1)),\n",
    "   \n",
    "    show=False\n",
    ")\n",
    "p.show()"
   ]
  },
  {
   "cell_type": "code",
   "execution_count": null,
   "id": "e61da089",
   "metadata": {},
   "outputs": [],
   "source": []
  }
 ],
 "metadata": {
  "kernelspec": {
   "display_name": "base",
   "language": "python",
   "name": "python3"
  },
  "language_info": {
   "codemirror_mode": {
    "name": "ipython",
    "version": 3
   },
   "file_extension": ".py",
   "mimetype": "text/x-python",
   "name": "python",
   "nbconvert_exporter": "python",
   "pygments_lexer": "ipython3",
   "version": "3.11.5"
  }
 },
 "nbformat": 4,
 "nbformat_minor": 5
}
