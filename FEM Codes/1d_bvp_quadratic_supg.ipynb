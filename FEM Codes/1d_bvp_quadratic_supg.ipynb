{
 "cells": [
  {
   "cell_type": "code",
   "execution_count": 13,
   "id": "04af4b6c",
   "metadata": {},
   "outputs": [],
   "source": [
    "#SUPG implementation was done using quadratic basis function for convection domainted problem"
   ]
  },
  {
   "cell_type": "code",
   "execution_count": 14,
   "id": "a2de8e51",
   "metadata": {},
   "outputs": [],
   "source": [
    "import sympy as sp"
   ]
  },
  {
   "cell_type": "code",
   "execution_count": 15,
   "id": "488d55a3",
   "metadata": {},
   "outputs": [],
   "source": [
    "N=int(input(\"enter the number of elements\"))\n",
    "domain=[]\n",
    "for i in range(2*N+1):\n",
    "    domain.append(i/(2*N))"
   ]
  },
  {
   "cell_type": "code",
   "execution_count": 16,
   "id": "e8452078",
   "metadata": {},
   "outputs": [
    {
     "data": {
      "text/plain": [
       "0.01"
      ]
     },
     "execution_count": 16,
     "metadata": {},
     "output_type": "execute_result"
    }
   ],
   "source": [
    "k=float(input(\"enter the constant\"))\n",
    "delta=k/N\n",
    "delta"
   ]
  },
  {
   "cell_type": "code",
   "execution_count": 17,
   "id": "5e34c703",
   "metadata": {},
   "outputs": [],
   "source": [
    "x=sp.Symbol(\"x\")\n",
    "function=[]\n",
    "for i in range(2*N-1):\n",
    "    expr=[]\n",
    "    for j in range(N):\n",
    "        if(i%2==0):\n",
    "            m=i/2\n",
    "            if(j==m):\n",
    "                f1=((x-domain[i])*(x-domain[i+2]))/((domain[i+1]-domain[i])*(domain[i+1]-domain[i+2]))\n",
    "                expr.append(f1)\n",
    "            else:\n",
    "                expr.append(0)\n",
    "        else:\n",
    "            m=int(i/2)\n",
    "            if(j==m):\n",
    "                f1=((x-domain[i-1])*(x-domain[i]))/((domain[i+1]-domain[i-1])*(domain[i+1]-domain[i]))\n",
    "                expr.append(f1)\n",
    "            elif(j==(m+1)):\n",
    "                f2=((x-domain[i+2])*(x-domain[i+3]))/((domain[i+1]-domain[i+2])*(domain[i+1]-domain[i+3]))\n",
    "                expr.append(f2)\n",
    "            else:\n",
    "                expr.append(0)\n",
    "    function.append(expr)\n"
   ]
  },
  {
   "cell_type": "code",
   "execution_count": 25,
   "id": "d5ea9828",
   "metadata": {},
   "outputs": [
    {
     "name": "stdout",
     "output_type": "stream",
     "text": [
      "1/10000 1 1 1\n"
     ]
    }
   ],
   "source": [
    "a_x=input(\"enter a(x): \")\n",
    "a_x=sp.sympify(a_x)\n",
    "b_x=input(\"enter b(x): \")\n",
    "b_x=sp.sympify(b_x)\n",
    "c_x=input(\"enter c(x): \")\n",
    "c_x=sp.sympify(c_x)\n",
    "f_x=input(\"enter f(x): \")\n",
    "f_x=sp.sympify(f_x)\n",
    "print(a_x,b_x,c_x,f_x)"
   ]
  },
  {
   "cell_type": "code",
   "execution_count": 26,
   "id": "b8503cd5",
   "metadata": {},
   "outputs": [],
   "source": [
    "def simpson13(f,a,b,n):\n",
    "    h=(b-a)/n\n",
    "    result=f(a)+f(b)\n",
    "    for i in range(1,n):\n",
    "        x=a+i*h\n",
    "        if(i%2==0):\n",
    "            result=result+2*f(x)\n",
    "        else:\n",
    "            result=result+4*f(x)\n",
    "    result=result*(h/3)\n",
    "    return result"
   ]
  },
  {
   "cell_type": "code",
   "execution_count": 27,
   "id": "7431690a",
   "metadata": {},
   "outputs": [],
   "source": [
    "b=[]\n",
    "for i in range(2*N-1):\n",
    "    if(i%2==0):\n",
    "        m=int(i/2)\n",
    "        y_1=f_x*function[i][m]+f_x*sp.diff(function[i][m],x)*delta\n",
    "        f_1 = sp.lambdify(x, y_1, modules=['math'])\n",
    "        r_1=simpson13(f_1,i/(2*N),(i+2)/(2*N),2)\n",
    "        b.append(r_1)\n",
    "    else:\n",
    "        m=int(i/2)\n",
    "        y_1=f_x*function[i][m]+f_x*sp.diff(function[i][m],x)*delta\n",
    "        f_1 = sp.lambdify(x, y_1, modules=['math'])\n",
    "        r_1=simpson13(f_1,(i-1)/(2*N),(i+1)/(2*N),2)\n",
    "        y_2=f_x*function[i][m+1]+f_x*sp.diff(function[i][m+1],x)*delta\n",
    "        f_2 = sp.lambdify(x, y_2, modules=['math'])\n",
    "        r_2=simpson13(f_2,(i+1)/(2*N),(i+2)/(2*N),2)\n",
    "        r=r_1+r_2\n",
    "        b.append(r)\n",
    "    \n"
   ]
  },
  {
   "cell_type": "code",
   "execution_count": 28,
   "id": "7ca9dba6",
   "metadata": {},
   "outputs": [],
   "source": [
    "import numpy as np\n",
    "A = np.zeros((2*N-1, 2*N-1))\n",
    "for j in range(N):\n",
    "        if(j==0):\n",
    "            local=np.zeros((2,2))\n",
    "            for i in range(2):\n",
    "                for k in range(2):\n",
    "                    p2=sp.diff(function[k][j],x)\n",
    "                    p1=sp.diff(function[i][j],x)\n",
    "                    f_2=a_x*p2*p1-a_x*(sp.diff(p2,x))*(sp.diff(function[i][j],x)*delta)+(b_x)*p2*(function[i][j]+sp.diff(function[i][j],x)*delta)+c_x*function[k][j]*(function[i][j]+sp.diff(function[i][j],x)*delta)\n",
    "                    y2 = sp.lambdify(x, f_2, modules=['math'])\n",
    "                    r2=simpson13(y2,0,1/N,2)\n",
    "                    local[i][k]=r2\n",
    "                    A[i][k]=local[i][k]\n",
    "        elif(j==N-1):\n",
    "            local=np.zeros((2,2))\n",
    "            for i in range(2):\n",
    "                for k in range(2):\n",
    "                    p2=sp.diff(function[k+2*j-1][j],x)\n",
    "                    p1=sp.diff(function[i+2*j-1][j],x)\n",
    "                    f_2=a_x*p2*p1-a_x*(sp.diff(p2,x))*(sp.diff(function[i+2*j-1][j],x)*delta)+(b_x)*p2*(function[i+2*j-1][j]+sp.diff(function[i+2*j-1][j],x)*delta)+c_x*function[k+2*j-1][j]*(function[i+2*j-1][j]+sp.diff(function[i+2*j-1][j],x)*delta)\n",
    "                    y2 = sp.lambdify(x, f_2, modules=['math'])\n",
    "                    r2=simpson13(y2,(j)/N,(j+1)/N,2)\n",
    "                    local[i][k]=r2\n",
    "            for i in range(2):\n",
    "                for k in range(2):\n",
    "                    if (A[i+2*j-1][k+2*j-1]==0):\n",
    "                        A[i+2*j-1][k+2*j-1]=local[i][k]\n",
    "                    else:\n",
    "                        l1=A[i+2*j-1][k+2*j-1]\n",
    "                        A[i+2*j-1][k+2*j-1]=l1+local[i][k]\n",
    "            \n",
    "        else:\n",
    "            local=np.zeros((3,3))\n",
    "            for i in range(3):\n",
    "                for k in range(3):\n",
    "                    p2=sp.diff(function[k+2*j-1][j],x)\n",
    "                    p1=sp.diff(function[i+2*j-1][j],x)\n",
    "                    f_2=a_x*p2*p1-a_x*(sp.diff(p2,x))*(sp.diff(function[i+2*j-1][j],x)*delta)+(b_x)*p2*(function[i+2*j-1][j]+sp.diff(function[i+2*j-1][j],x)*delta)+c_x*function[k+2*j-1][j]*(function[i+2*j-1][j]+sp.diff(function[i+2*j-1][j],x)*delta)\n",
    "                    y2 = sp.lambdify(x, f_2, modules=['math'])\n",
    "                    r2=simpson13(y2,(j)/N,(j+1)/N,2)\n",
    "                    local[i][k]=r2\n",
    "            for i in range(3):\n",
    "                for k in range(3):\n",
    "                    if (A[i+2*j-1][k+2*j-1]==0):\n",
    "                        A[i+2*j-1][k+2*j-1]=local[i][k]\n",
    "                    else:\n",
    "                        l1=A[i+2*j-1][k+2*j-1]\n",
    "                        A[i+2*j-1][k+2*j-1]=l1+local[i][k]\n",
    "            \n",
    "\n"
   ]
  },
  {
   "cell_type": "code",
   "execution_count": 30,
   "id": "db7e8b37",
   "metadata": {},
   "outputs": [],
   "source": [
    "import numpy as np\n",
    "A=np.array(A)\n",
    "b=np.array(b)\n",
    "x=np.linalg.solve(A,b)"
   ]
  },
  {
   "cell_type": "code",
   "execution_count": 31,
   "id": "696a84d8",
   "metadata": {},
   "outputs": [],
   "source": [
    "for i in range(2*N-1):\n",
    "    for j in range(N):\n",
    "        function[i][j]=function[i][j]*x[i]"
   ]
  },
  {
   "cell_type": "code",
   "execution_count": 32,
   "id": "f289397d",
   "metadata": {},
   "outputs": [
    {
     "data": {
      "image/png": "[encoded data removed]",
      "text/plain": [
       "<Figure size 640x480 with 1 Axes>"
      ]
     },
     "metadata": {},
     "output_type": "display_data"
    }
   ],
   "source": [
    "x=sp.Symbol(\"x\")\n",
    "plotarg=[]\n",
    "for j in range(N):\n",
    "    if(j==0):\n",
    "        plotarg.append((function[0][0]+function[1][0],(x,0,1/N)))\n",
    "    elif(j==N-1):\n",
    "        plotarg.append((function[2*j-1][j]+function[2*j][j],(x,(j)/N,(j+1)/N)))\n",
    "    else:\n",
    "        plotarg.append((function[2*j+1][j]+function[2*j-1][j]+function[2*j][j],(x,(j)/N,(j+1)/N)))\n",
    "            \n",
    "p = sp.plot(*plotarg, show=False)\n",
    "p.show()"
   ]
  }
 ],
 "metadata": {
  "kernelspec": {
   "display_name": "base",
   "language": "python",
   "name": "python3"
  },
  "language_info": {
   "codemirror_mode": {
    "name": "ipython",
    "version": 3
   },
   "file_extension": ".py",
   "mimetype": "text/x-python",
   "name": "python",
   "nbconvert_exporter": "python",
   "pygments_lexer": "ipython3",
   "version": "3.11.5"
  }
 },
 "nbformat": 4,
 "nbformat_minor": 5
}
