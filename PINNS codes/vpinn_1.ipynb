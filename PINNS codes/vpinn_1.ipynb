{
 "cells": [
  {
   "cell_type": "code",
   "execution_count": 1069,
   "id": "644776d4",
   "metadata": {},
   "outputs": [],
   "source": [
    "#d(ady/dx)dx+bdy/dx+cy=f(x) using piecewise linear function and vpinns"
   ]
  },
  {
   "cell_type": "code",
   "execution_count": 1070,
   "id": "297c4612",
   "metadata": {},
   "outputs": [],
   "source": [
    "import numpy as np\n",
    "import matplotlib.pyplot as plt\n",
    "import torch\n",
    "import torch.nn as nn\n",
    "import torch.nn.functional as F"
   ]
  },
  {
   "cell_type": "code",
   "execution_count": 1071,
   "id": "4acf313c",
   "metadata": {},
   "outputs": [],
   "source": [
    "def a_x(x):\n",
    "    return 10**(-4)\n",
    "def b_x(x):\n",
    "    return 1\n",
    "def c_x(x):\n",
    "    return 1\n",
    "def f_x(x):\n",
    "    return 1"
   ]
  },
  {
   "cell_type": "code",
   "execution_count": 1072,
   "id": "4b5fe160",
   "metadata": {},
   "outputs": [],
   "source": [
    "def func(x):\n",
    "    return np.sin(x)"
   ]
  },
  {
   "cell_type": "code",
   "execution_count": 1073,
   "id": "6c3aa78c",
   "metadata": {},
   "outputs": [],
   "source": [
    "def midpoint_integral(a, b, f):\n",
    "    return (b - a) * torch.mean(f)\n"
   ]
  },
  {
   "cell_type": "code",
   "execution_count": 1074,
   "id": "54a2b163",
   "metadata": {},
   "outputs": [],
   "source": [
    "class Model(nn.Module):\n",
    "    def __init__(self,input,output,h1):\n",
    "        super().__init__()\n",
    "        self.fc1=nn.Linear(input,h1)\n",
    "        self.fc2=nn.Linear(h1,h1)\n",
    "        self.fc4=nn.Linear(h1,h1)\n",
    "        self.fc5=nn.Linear(h1,h1)\n",
    "        self.fc6=nn.Linear(h1,h1)\n",
    "        self.fc3=nn.Linear(h1,output)\n",
    "    def forward(self,x):\n",
    "        x=torch.tanh(self.fc1(x))\n",
    "        x=torch.tanh(self.fc2(x))\n",
    "        x=torch.tanh(self.fc4(x))\n",
    "        x=torch.tanh(self.fc5(x))\n",
    "        x=torch.tanh(self.fc6(x))\n",
    "        x=self.fc3(x)\n",
    "        return x"
   ]
  },
  {
   "cell_type": "code",
   "execution_count": 1075,
   "id": "d54ad32d",
   "metadata": {},
   "outputs": [],
   "source": [
    "import sympy as sp"
   ]
  },
  {
   "cell_type": "code",
   "execution_count": 1076,
   "id": "bb262231",
   "metadata": {},
   "outputs": [],
   "source": [
    "N=5\n",
    "domain=[]    \n",
    "for i in range(N+1):\n",
    "    domain.append(i/N)"
   ]
  },
  {
   "cell_type": "code",
   "execution_count": 1077,
   "id": "7e5a197d",
   "metadata": {},
   "outputs": [
    {
     "data": {
      "text/plain": [
       "[[5.0*x, 2.0 - 5.0*x, 0, 0, 0],\n",
       " [0, 5.0*x - 1.0, 3.0 - 5.0*x, 0, 0],\n",
       " [0, 0, 5.0*x - 2.0, 4.0 - 5.0*x, 0],\n",
       " [0, 0, 0, 5.0*x - 3.0, 5.0 - 5.0*x]]"
      ]
     },
     "execution_count": 1077,
     "metadata": {},
     "output_type": "execute_result"
    }
   ],
   "source": [
    "x=sp.Symbol(\"x\")\n",
    "function=[]\n",
    "for i in range(N-1):\n",
    "    expr=[]\n",
    "    for j in range(N):\n",
    "        if(i==j):\n",
    "            f1=(x-domain[i])/(domain[i+1]-domain[i])\n",
    "            expr.append(f1)\n",
    "        elif(j==(i+1)):\n",
    "            f2=(domain[i+2]-x)/(domain[i+2]-domain[i+1])\n",
    "            expr.append(f2)\n",
    "        else:\n",
    "            expr.append(sp.S(0))\n",
    "    function.append(expr)\n",
    "function\n"
   ]
  },
  {
   "cell_type": "code",
   "execution_count": 1078,
   "id": "a461e807",
   "metadata": {},
   "outputs": [],
   "source": [
    "function_deri=[]\n",
    "for i in range(N-1):\n",
    "    expr=[]\n",
    "    for j in range(N):\n",
    "            f=sp.diff(function[i][j],x)\n",
    "            expr.append(f)\n",
    "    function_deri.append(expr)\n"
   ]
  },
  {
   "cell_type": "code",
   "execution_count": 1079,
   "id": "b3443a34",
   "metadata": {},
   "outputs": [],
   "source": [
    "model=Model(1,1,40)\n",
    "optimizer=torch.optim.Adam(model.parameters(),lr=1e-3)"
   ]
  },
  {
   "cell_type": "code",
   "execution_count": null,
   "id": "16482979",
   "metadata": {},
   "outputs": [],
   "source": []
  },
  {
   "cell_type": "code",
   "execution_count": 1080,
   "id": "6739f90a",
   "metadata": {},
   "outputs": [],
   "source": [
    "phi = [[sp.lambdify(x, f, 'torch') for f in row] for row in function]\n",
    "dphi = [[sp.lambdify(x, df, 'torch') for df in row] for row in function_deri]"
   ]
  },
  {
   "cell_type": "code",
   "execution_count": null,
   "id": "7d68deaf",
   "metadata": {},
   "outputs": [],
   "source": [
    "epochs=3000\n",
    "loss_history=[]\n",
    "\n",
    "for i in range(epochs):\n",
    "    optimizer.zero_grad()\n",
    "    y_0=model(torch.zeros(1,1))\n",
    "    loss1=10*torch.mean((y_0-0)**2)  #boundary loss at 0\n",
    "    y_1=model(torch.ones(1,1))\n",
    "    loss2=10*torch.mean((y_1-0)**2)  #boundary loss at 1\n",
    "    loss3=0\n",
    "    for j in range(N-1):\n",
    "        if (j==N-2):\n",
    "            k=0.4\n",
    "            x_coll1 =torch.linspace((j/N),((j+1)/N),700).reshape(-1,1).requires_grad_(True)\n",
    "            fx=f_x(x_coll1)\n",
    "            ax=a_x(x_coll1)\n",
    "            bx=b_x(x_coll1)\n",
    "            cx=c_x(x_coll1)\n",
    "            ypred=model(x_coll1)\n",
    "            dy_dx = torch.autograd.grad(ypred, x_coll1, torch.ones_like(ypred), create_graph=True)[0]\n",
    "            d2y_dx2 = torch.autograd.grad(dy_dx,x_coll1, torch.ones_like(dy_dx), create_graph=True)[0]\n",
    "            F1=ax*dy_dx*dphi[j][j](x_coll1)-ax*d2y_dx2*((k/N)*dphi[j][j](x_coll1))+bx*dy_dx*(phi[j][j](x_coll1)+(k/N)*dphi[j][j](x_coll1))+cx*ypred*(phi[j][j](x_coll1)+(k/N)*dphi[j][j](x_coll1))-fx*(phi[j][j](x_coll1)+(k/N)*dphi[j][j](x_coll1))\n",
    "            l1=midpoint_integral((j/N),((j+1)/N),F1)\n",
    "            k=0.4\n",
    "            x_coll2 =torch.linspace(((j+1)/N),((j+2)/N),1000).reshape(-1,1).requires_grad_(True)\n",
    "            fx=f_x(x_coll2)\n",
    "            ax=a_x(x_coll2)\n",
    "            bx=b_x(x_coll2)\n",
    "            cx=c_x(x_coll2)\n",
    "            ypred=model(x_coll2)\n",
    "            dy_dx = torch.autograd.grad(ypred, x_coll2, torch.ones_like(ypred), create_graph=True)[0]\n",
    "            d2y_dx2 = torch.autograd.grad(dy_dx,x_coll2, torch.ones_like(dy_dx), create_graph=True)[0]\n",
    "            F2=ax*dy_dx*dphi[j][j+1](x_coll2)-ax*d2y_dx2*((k/N)*dphi[j][j+1](x_coll2))+bx*dy_dx*(phi[j][j+1](x_coll2)+(k/N)*dphi[j][j+1](x_coll2))+cx*ypred*(phi[j][j+1](x_coll2)+(k/N)*dphi[j][j+1](x_coll2))-fx*(phi[j][j+1](x_coll2)+(k/N)*dphi[j][j+1](x_coll2))\n",
    "            l2=midpoint_integral(((j+1)/N),((j+2)/N),F2)\n",
    "            loss3=loss3+l1**2+l2**2\n",
    "        else:\n",
    "            k=0.4\n",
    "            x_coll1=torch.linspace((j/N),((j+1)/N),500).reshape(-1,1).requires_grad_(True)\n",
    "            fx=f_x(x_coll1)\n",
    "            ax=a_x(x_coll1)\n",
    "            bx=b_x(x_coll1)\n",
    "            cx=c_x(x_coll1)\n",
    "            ypred=model(x_coll1)\n",
    "            dy_dx = torch.autograd.grad(ypred, x_coll1, torch.ones_like(ypred), create_graph=True)[0]\n",
    "            d2y_dx2 = torch.autograd.grad(dy_dx,x_coll1, torch.ones_like(dy_dx), create_graph=True)[0]\n",
    "            F1=ax*dy_dx*dphi[j][j](x_coll1)-ax*d2y_dx2*((k/N)*dphi[j][j](x_coll1))+bx*dy_dx*(phi[j][j](x_coll1)+(k/N)*dphi[j][j](x_coll1))+cx*ypred*(phi[j][j](x_coll1)+(k/N)*dphi[j][j](x_coll1))-fx*(phi[j][j](x_coll1)+(k/N)*dphi[j][j](x_coll1))\n",
    "            l1=midpoint_integral((j/N),((j+1)/N),F1)\n",
    "            x_coll2=torch.linspace(((j+1)/N),((j+2)/N),500).reshape(-1,1).requires_grad_(True)\n",
    "            fx=f_x(x_coll2)\n",
    "            ax=a_x(x_coll2)\n",
    "            bx=b_x(x_coll2)\n",
    "            cx=c_x(x_coll2)\n",
    "            ypred=model(x_coll2)\n",
    "            dy_dx = torch.autograd.grad(ypred, x_coll2, torch.ones_like(ypred), create_graph=True)[0]\n",
    "            d2y_dx2 = torch.autograd.grad(dy_dx,x_coll2, torch.ones_like(dy_dx), create_graph=True)[0]\n",
    "            F2=ax*dy_dx*dphi[j][j+1](x_coll2)-ax*d2y_dx2*((k/N)*dphi[j][j+1](x_coll2))+bx*dy_dx*(phi[j][j+1](x_coll2)+(k/N)*dphi[j][j+1](x_coll2))+cx*ypred*(phi[j][j+1](x_coll2)+(k/N)*dphi[j][j+1](x_coll2))-fx*(phi[j][j+1](x_coll2)+(k/N)*dphi[j][j+1](x_coll2))\n",
    "            l2=midpoint_integral(((j+1)/N),((j+2)/N),F2)\n",
    "            loss3=loss3+l1**2+l2**2\n",
    "    \n",
    "        \n",
    "    loss3=loss3/(N-1)\n",
    "    loss=loss1+loss2+loss3\n",
    "    loss.backward()\n",
    "    optimizer.step()\n",
    "    loss_history.append(loss.detach().numpy())"
   ]
  },
  {
   "cell_type": "code",
   "execution_count": 1082,
   "id": "19399b7b",
   "metadata": {},
   "outputs": [
    {
     "data": {
      "text/plain": [
       "[<matplotlib.lines.Line2D at 0x1785cb010>]"
      ]
     },
     "execution_count": 1082,
     "metadata": {},
     "output_type": "execute_result"
    },
    {
     "data": {
      "image/png": "[encoded data removed]",
      "text/plain": [
       "<Figure size 640x480 with 1 Axes>"
      ]
     },
     "metadata": {},
     "output_type": "display_data"
    }
   ],
   "source": [
    "plt.plot(range(epochs),loss_history)"
   ]
  },
  {
   "cell_type": "code",
   "execution_count": 1083,
   "id": "6131f8c0",
   "metadata": {},
   "outputs": [
    {
     "data": {
      "image/png": "[encoded data removed]",
      "text/plain": [
       "<Figure size 640x480 with 1 Axes>"
      ]
     },
     "metadata": {},
     "output_type": "display_data"
    }
   ],
   "source": [
    "with torch.no_grad():\n",
    "    epsilon = 10**(-4)\n",
    "    e_inv = np.exp(-1)\n",
    "    e_neg10001 = np.exp(-(1/epsilon+1))\n",
    "    e_neg10002 = np.exp(-(1/epsilon+2))\n",
    "    A = (e_inv - 1) * e_neg10001 / (1 - e_neg10002)\n",
    "    B = -1 - A\n",
    "    def y_stable(x):\n",
    "        return ((e_inv - 1) * np.exp(-(1/epsilon+1) * (1 - x)) / (1 - e_neg10002)+ (-1 - (e_inv - 1) * e_neg10001 / (1 - e_neg10002)) * np.exp(-x) + 1)\n",
    "    x= np.linspace(0,1,200).reshape(-1, 1)  \n",
    "\n",
    "    plt.plot(x,y_stable(x))\n",
    "    x=torch.FloatTensor(x)\n",
    "    ypred=model.forward(x)\n",
    "    plt.plot(x,ypred)\n",
    "    "
   ]
  }
 ],
 "metadata": {
  "kernelspec": {
   "display_name": "base",
   "language": "python",
   "name": "python3"
  },
  "language_info": {
   "codemirror_mode": {
    "name": "ipython",
    "version": 3
   },
   "file_extension": ".py",
   "mimetype": "text/x-python",
   "name": "python",
   "nbconvert_exporter": "python",
   "pygments_lexer": "ipython3",
   "version": "3.11.5"
  }
 },
 "nbformat": 4,
 "nbformat_minor": 5
}
