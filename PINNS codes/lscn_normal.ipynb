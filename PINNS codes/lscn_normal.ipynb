{
 "cells": [
  {
   "cell_type": "code",
   "execution_count": null,
   "id": "38271892",
   "metadata": {},
   "outputs": [],
   "source": [
    "#used the idea of Least squares nonconforming fem for formulating the loss function \n",
    "# in convection domainted problems but could not generalize in normal case "
   ]
  },
  {
   "cell_type": "code",
   "execution_count": 2,
   "id": "35477273",
   "metadata": {},
   "outputs": [],
   "source": [
    "import numpy as np\n",
    "import matplotlib.pyplot as plt"
   ]
  },
  {
   "cell_type": "code",
   "execution_count": 3,
   "id": "f533575b",
   "metadata": {},
   "outputs": [],
   "source": [
    "import torch\n",
    "import torch.nn as nn\n",
    "import torch.nn.functional as F"
   ]
  },
  {
   "cell_type": "code",
   "execution_count": 4,
   "id": "75322446",
   "metadata": {},
   "outputs": [],
   "source": [
    "torch.set_default_dtype(torch.float64)"
   ]
  },
  {
   "cell_type": "code",
   "execution_count": 5,
   "id": "2c15fb7a",
   "metadata": {},
   "outputs": [],
   "source": [
    "def a_x(x):\n",
    "    return 10**(-4)\n",
    "def b_x(x):\n",
    "    return 1\n",
    "def c_x(x):\n",
    "    return 1\n",
    "def f_x(x):\n",
    "    return 1"
   ]
  },
  {
   "cell_type": "code",
   "execution_count": 6,
   "id": "63bbfda8",
   "metadata": {},
   "outputs": [],
   "source": [
    "class Model1(nn.Module):\n",
    "    def __init__(self,input,output,h1):\n",
    "        super().__init__()\n",
    "        self.fc1=nn.Linear(input,h1)\n",
    "        self.fc2=nn.Linear(h1,h1)\n",
    "        self.fc4=nn.Linear(h1,h1)\n",
    "        self.fc5=nn.Linear(h1,h1)\n",
    "        self.fc6=nn.Linear(h1,h1)\n",
    "        self.fc3=nn.Linear(h1,output)\n",
    "    def forward(self,x):\n",
    "        x=(x-0.1)/0.1\n",
    "        x=torch.tanh(self.fc1(x))\n",
    "        x=torch.tanh(self.fc2(x))\n",
    "        x=torch.tanh(self.fc4(x))\n",
    "        x=torch.tanh(self.fc5(x))\n",
    "        x=torch.tanh(self.fc6(x))\n",
    "        x=self.fc3(x)\n",
    "        return x"
   ]
  },
  {
   "cell_type": "code",
   "execution_count": 7,
   "id": "b167b937",
   "metadata": {},
   "outputs": [],
   "source": [
    "class Model2(nn.Module):\n",
    "    def __init__(self,input,output,h1):\n",
    "        super().__init__()\n",
    "        self.fc1=nn.Linear(input,h1)\n",
    "        self.fc2=nn.Linear(h1,h1)\n",
    "        self.fc4=nn.Linear(h1,h1)\n",
    "        self.fc5=nn.Linear(h1,h1)\n",
    "        self.fc6=nn.Linear(h1,h1)\n",
    "        self.fc3=nn.Linear(h1,output)\n",
    "    def forward(self,x):\n",
    "        x=(x-0.1)/(0.99-0.1)\n",
    "        x=torch.tanh(self.fc1(x))\n",
    "        x=torch.tanh(self.fc2(x))\n",
    "        x=torch.tanh(self.fc4(x))\n",
    "        x=torch.tanh(self.fc5(x))\n",
    "        x=torch.tanh(self.fc6(x))\n",
    "        x=self.fc3(x)\n",
    "        return x"
   ]
  },
  {
   "cell_type": "code",
   "execution_count": 8,
   "id": "0a09b830",
   "metadata": {},
   "outputs": [],
   "source": [
    "b = np.random.normal(0,1, size=(1,2))\n",
    "b=torch.tensor(b)"
   ]
  },
  {
   "cell_type": "code",
   "execution_count": 9,
   "id": "41c1a8d9",
   "metadata": {},
   "outputs": [],
   "source": [
    "class Model3(nn.Module):\n",
    "    def __init__(self,input,output,h1):\n",
    "        super().__init__()\n",
    "        self.fc1=nn.Linear(input,h1)\n",
    "        self.fc2=nn.Linear(h1,h1)\n",
    "        self.fc3=nn.Linear(h1,output)\n",
    "        self.act=nn.SiLU()\n",
    "    def forward(self,x):\n",
    "        x=torch.exp(self.fc1(x))\n",
    "        x=torch.exp(self.fc2(x))\n",
    "        x=self.fc3(x)\n",
    "        return x"
   ]
  },
  {
   "cell_type": "code",
   "execution_count": 10,
   "id": "848c1975",
   "metadata": {},
   "outputs": [],
   "source": [
    "x1=torch.linspace(0,0.1,100).reshape(-1,1).requires_grad_(True)\n",
    "fx1=f_x(x1)\n",
    "ax1=a_x(x1)\n",
    "bx1=b_x(x1)\n",
    "cx1=c_x(x1)"
   ]
  },
  {
   "cell_type": "code",
   "execution_count": 11,
   "id": "237ed9f4",
   "metadata": {},
   "outputs": [],
   "source": [
    "x2= torch.linspace(0.1,0.99,500).reshape(-1,1).requires_grad_(True)\n",
    "fx2=f_x(x2)\n",
    "ax2=a_x(x2)\n",
    "bx2=b_x(x2)\n",
    "cx2=c_x(x2)"
   ]
  },
  {
   "cell_type": "code",
   "execution_count": 12,
   "id": "9e3471b5",
   "metadata": {},
   "outputs": [],
   "source": [
    "x3= torch.linspace(0.99,1.0,400).reshape(-1,1).requires_grad_(True)\n",
    "x3=(x3-0.99)/(1.0-0.99)\n",
    "b = np.random.normal(0,1, size=(1,2))\n",
    "b=torch.tensor(b)\n",
    "sin_features = torch.sin(2 * np.pi * x3 * b)\n",
    "cos_features = torch.cos(2 * np.pi * x3 * b)\n",
    "x3 = torch.cat([sin_features, cos_features], axis=1)\n",
    "x3 = x3.detach().requires_grad_()\n",
    "x3.shape\n",
    "fx3=f_x(x3)\n",
    "ax3=a_x(x3)\n",
    "bx3=b_x(x3)\n",
    "cx3=c_x(x3)\n",
    "\n"
   ]
  },
  {
   "cell_type": "code",
   "execution_count": 13,
   "id": "1c704b85",
   "metadata": {},
   "outputs": [],
   "source": [
    "x_1=torch.tensor([1.0]).reshape(-1,1).requires_grad_(True)\n",
    "x_1=(x_1-0.99)/(1.0-0.99)\n",
    "sin_features = torch.sin(2 * np.pi * x_1 * b)\n",
    "cos_features = torch.cos(2 * np.pi * x_1 * b)\n",
    "x_1 = torch.cat([sin_features, cos_features], axis=1)\n",
    "x_1=x_1.detach().requires_grad_(True)\n"
   ]
  },
  {
   "cell_type": "code",
   "execution_count": 14,
   "id": "af28a4dd",
   "metadata": {},
   "outputs": [],
   "source": [
    "x_99=torch.tensor([0.99]).reshape(-1,1).requires_grad_(True)\n",
    "x_99=(x_99-0.99)/(1.0-0.99)\n",
    "sin_features = torch.sin(2 * np.pi * x_99 * b)\n",
    "cos_features = torch.cos(2 * np.pi * x_99 * b)\n",
    "x_99 = torch.cat([sin_features, cos_features], axis=1)\n",
    "x_99=x_99.detach().requires_grad_(True)\n"
   ]
  },
  {
   "cell_type": "code",
   "execution_count": 15,
   "id": "fffdb75e",
   "metadata": {},
   "outputs": [],
   "source": [
    "torch.manual_seed(14)\n",
    "model1=Model1(1,1,40)\n",
    "model2=Model2(1,1,40)\n",
    "model3=Model3(4,1,40)\n",
    "optimizer = torch.optim.Adam(\n",
    "    list(model1.parameters()) + list(model2.parameters()) + list(model3.parameters()),\n",
    "    lr=1e-4\n",
    ")\n"
   ]
  },
  {
   "cell_type": "code",
   "execution_count": 16,
   "id": "494d3e41",
   "metadata": {},
   "outputs": [],
   "source": [
    "epochs=5000\n",
    "loss_history=[]\n",
    "for i in range(epochs):\n",
    "    optimizer.zero_grad()\n",
    "    #model 1\n",
    "    ypred1=model1(x1)\n",
    "    dy_dx1 = torch.autograd.grad(ypred1, x1, torch.ones_like(ypred1), create_graph=True, retain_graph=True)[0]\n",
    "    a_dy_dx1=ax1*dy_dx1\n",
    "    a_d2y_dx2_1 =torch.autograd.grad(a_dy_dx1, x1, torch.ones_like(a_dy_dx1), create_graph=True, retain_graph=True)[0]\n",
    "    F1=-a_d2y_dx2_1+bx1*dy_dx1+cx1*ypred1-fx1\n",
    "    loss1=1*torch.mean((F1-0)**2)\n",
    "    y1_01=model1(0.1*torch.ones(1,1))\n",
    "    y1_00=model1(0*torch.ones(1,1))\n",
    "    x_01 = torch.tensor([[0.1]], requires_grad=True)\n",
    "    y_01 = model1(x_01)\n",
    "    dy_dx_01 = torch.autograd.grad(y_01, x_01, torch.ones_like(y_01), create_graph=True, retain_graph=True)[0]\n",
    "    y1_01_dash=dy_dx_01\n",
    "    #model 2\n",
    "    ypred2=model2(x2)\n",
    "    dy_dx2 = torch.autograd.grad(ypred2, x2, torch.ones_like(ypred2), create_graph=True, retain_graph=True)[0]\n",
    "    a_dy_dx2=ax2*dy_dx2\n",
    "    a_d2y_dx2_2 =torch.autograd.grad(a_dy_dx2, x2, torch.ones_like(a_dy_dx2), create_graph=True, retain_graph=True)[0]\n",
    "    F2=-a_d2y_dx2_2+bx2*dy_dx2+cx2*ypred2-fx2\n",
    "    loss2=1*torch.mean((F2-0)**2)\n",
    "    y2_01=model2(0.1*torch.ones(1,1))\n",
    "    y2_09=model2(0.99*torch.ones(1,1))\n",
    "    y_01 = model2(x_01)\n",
    "    dy_dx_01 = torch.autograd.grad(y_01, x_01, torch.ones_like(y_01), create_graph=True, retain_graph=True)[0]\n",
    "    y2_01_dash=dy_dx_01\n",
    "    x_09 =  torch.tensor([[0.99]], requires_grad=True)\n",
    "    y_09 = model2(x_09)\n",
    "    dy_dx_09 = torch.autograd.grad(y_09, x_09, torch.ones_like(y_09), create_graph=True, retain_graph=True)[0]\n",
    "    y2_09_dash=dy_dx_09\n",
    "    #model 3\n",
    "    ypred3=model3(x3)\n",
    "    dy_dx3 = torch.autograd.grad(ypred3, x3, torch.ones_like(ypred3), create_graph=True, retain_graph=True)[0]\n",
    "    a_dy_dx3=ax3*dy_dx3\n",
    "    a_d2y_dx2_3 =torch.autograd.grad(a_dy_dx3, x3, torch.ones_like(a_dy_dx3), create_graph=True, retain_graph=True)[0]\n",
    "    F3=-a_d2y_dx2_3+bx3*dy_dx3+cx3*ypred3-fx3\n",
    "    loss3=1*torch.mean((F3-0)**2)\n",
    "    y3_1=model3(x_1)\n",
    "    y3_09=model3(x_99)\n",
    "    \n",
    "    y_09 = model3(x_99)\n",
    "    dy_dx_09 = torch.autograd.grad(y_09, x_99, torch.ones_like(y_09), create_graph=True, retain_graph=True)[0]\n",
    "    y3_09_dash=dy_dx_09\n",
    "    #boundary losses\n",
    "    loss_0=100*torch.mean((y1_00)**2)\n",
    "    loss_1=100*torch.mean((y3_1)**2)\n",
    "    #interface losses\n",
    "    loss_01=100*torch.mean((y1_01-y2_01)**2)\n",
    "    loss_09=100*torch.mean((y2_09-y3_09)**2)\n",
    "    #interface derivative losses\n",
    "    loss_01_dash=1*torch.mean((y1_01_dash-y2_01_dash)**2)\n",
    "    loss_09_dash=1*torch.mean((y2_09_dash-y3_09_dash)**2)\n",
    "    loss=loss2+loss3+loss1+loss_0+loss_1+loss_01+loss_09+loss_01_dash+loss_09_dash\n",
    "    loss.backward()\n",
    "    optimizer.step()\n",
    "    loss_history.append(loss.detach().numpy())"
   ]
  },
  {
   "cell_type": "code",
   "execution_count": 17,
   "id": "db00884c",
   "metadata": {},
   "outputs": [
    {
     "data": {
      "text/plain": [
       "[<matplotlib.lines.Line2D at 0x16a5f3f10>]"
      ]
     },
     "execution_count": 17,
     "metadata": {},
     "output_type": "execute_result"
    },
    {
     "data": {
      "image/png": "[encoded data removed]",
      "text/plain": [
       "<Figure size 640x480 with 1 Axes>"
      ]
     },
     "metadata": {},
     "output_type": "display_data"
    }
   ],
   "source": [
    "plt.plot(range(epochs),loss_history)"
   ]
  },
  {
   "cell_type": "code",
   "execution_count": 18,
   "id": "525d7b49",
   "metadata": {},
   "outputs": [
    {
     "data": {
      "image/png": "[encoded data removed]",
      "text/plain": [
       "<Figure size 640x480 with 1 Axes>"
      ]
     },
     "metadata": {},
     "output_type": "display_data"
    }
   ],
   "source": [
    "with torch.no_grad():\n",
    "    epsilon = 10**(-4)\n",
    "    e_inv = np.exp(-1)\n",
    "    e_neg10001 = np.exp(-(1/epsilon+1))\n",
    "    e_neg10002 = np.exp(-(1/epsilon+2))\n",
    "    A = (e_inv - 1) * e_neg10001 / (1 - e_neg10002)\n",
    "    B = -1 - A\n",
    "    def y_stable(x):\n",
    "        return ((e_inv - 1) * np.exp(-(1/epsilon+1) * (1 - x)) / (1 - e_neg10002)+ (-1 - (e_inv - 1) * e_neg10001 / (1 - e_neg10002)) * np.exp(-x) + 1)\n",
    "    x1= np.linspace(0,0.1,200).reshape(-1, 1)  \n",
    "    x= np.linspace(0.1,0.99,200).reshape(-1, 1)\n",
    "    x2= np.linspace(0.99,1,200).reshape(-1, 1)\n",
    "    #plt.plot(x1,y_stable(x1))\n",
    "    #plt.plot(x,y_stable(x))\n",
    "    x1= np.linspace(0,0.1,200).reshape(-1, 1)  \n",
    "    x= np.linspace(0.1,0.99,200).reshape(-1, 1)\n",
    "    x2= np.linspace(0.99,1,200).reshape(-1, 1)\n",
    "\n",
    "    x1=torch.DoubleTensor(x1)\n",
    "    x=torch.DoubleTensor(x)\n",
    "    x2=torch.DoubleTensor(x2)\n",
    "    x22=(x2-0.99)/(1.0-0.99)\n",
    "    x21=torch.DoubleTensor(x22)\n",
    "    sin_features = torch.sin(2 * np.pi * x21 * b)\n",
    "    cos_features = torch.cos(2 * np.pi * x21 * b)\n",
    "    x21 = torch.cat([sin_features, cos_features], axis=1).requires_grad_() \n",
    "    x21=x21.detach().requires_grad_(True) \n",
    "    ypred1=model1.forward(x1)\n",
    "    plt.plot(x1,ypred1)\n",
    "    ypred=model2.forward(x)\n",
    "    plt.plot(x,ypred)\n",
    "    ypred2=model3.forward(x21)\n",
    "    plt.plot(x2,ypred2)"
   ]
  }
 ],
 "metadata": {
  "kernelspec": {
   "display_name": "base",
   "language": "python",
   "name": "python3"
  },
  "language_info": {
   "codemirror_mode": {
    "name": "ipython",
    "version": 3
   },
   "file_extension": ".py",
   "mimetype": "text/x-python",
   "name": "python",
   "nbconvert_exporter": "python",
   "pygments_lexer": "ipython3",
   "version": "3.11.5"
  }
 },
 "nbformat": 4,
 "nbformat_minor": 5
}
