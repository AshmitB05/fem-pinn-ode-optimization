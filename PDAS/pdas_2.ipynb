{
 "cells": [
  {
   "cell_type": "code",
   "execution_count": 1,
   "id": "843d1200",
   "metadata": {},
   "outputs": [],
   "source": [
    "#PDAS ALGORITHM FROM SCRATCH (USED SCKIT FEM FOR FEM FORMULATIONS)"
   ]
  },
  {
   "cell_type": "code",
   "execution_count": 2,
   "id": "d3cc51f1",
   "metadata": {},
   "outputs": [],
   "source": [
    "import skfem as sk\n",
    "import numpy as np\n",
    "from skfem.helpers import dot, grad"
   ]
  },
  {
   "cell_type": "code",
   "execution_count": 3,
   "id": "815834a2",
   "metadata": {},
   "outputs": [],
   "source": [
    "N=100\n",
    "mesh = sk.MeshLine(np.linspace(-1, 1, N + 1))\n",
    "element = sk.ElementLineP1()\n",
    "basis = sk.Basis(mesh, element)"
   ]
  },
  {
   "cell_type": "code",
   "execution_count": 4,
   "id": "bdb44657",
   "metadata": {},
   "outputs": [],
   "source": [
    "# just for plotting examples i am using this syntax can be modifed for polynominal case\n",
    "a_const = 1.0\n",
    "b_const = 0.0\n",
    "c_const = 0.0\n",
    "f_const = -10.0"
   ]
  },
  {
   "cell_type": "code",
   "execution_count": 5,
   "id": "0d53544b",
   "metadata": {},
   "outputs": [],
   "source": [
    "@sk.BilinearForm\n",
    "def bilinf(u, v, w):\n",
    "    return a_const * dot(grad(u), grad(v)) + b_const * dot(grad(u), v) + c_const * u * v\n",
    "\n",
    "@sk.LinearForm\n",
    "def linf(v, w):\n",
    "    return f_const * v"
   ]
  },
  {
   "cell_type": "code",
   "execution_count": 6,
   "id": "b7dd411f",
   "metadata": {},
   "outputs": [],
   "source": [
    "A = sk.asm(bilinf, basis)\n",
    "b = sk.asm(linf, basis)"
   ]
  },
  {
   "cell_type": "code",
   "execution_count": 7,
   "id": "c4ca43aa",
   "metadata": {},
   "outputs": [],
   "source": [
    "A_bc = A[1:-1, 1:-1]\n",
    "b_bc = b[1:-1]\n"
   ]
  },
  {
   "cell_type": "code",
   "execution_count": 8,
   "id": "e6cb808c",
   "metadata": {},
   "outputs": [],
   "source": [
    "import numpy as np\n",
    "A = A_bc.toarray() \n"
   ]
  },
  {
   "cell_type": "code",
   "execution_count": 9,
   "id": "08d8a6df",
   "metadata": {},
   "outputs": [],
   "source": [
    "b =np.array(b_bc)\n"
   ]
  },
  {
   "cell_type": "code",
   "execution_count": 10,
   "id": "46d5a3f0",
   "metadata": {},
   "outputs": [],
   "source": [
    "domain=[]    \n",
    "for i in range(1,N):\n",
    "    domain.append(-1+(2*i)/N)\n",
    "domain=np.array(domain)\n",
    "\n"
   ]
  },
  {
   "cell_type": "code",
   "execution_count": 11,
   "id": "523f9470",
   "metadata": {},
   "outputs": [],
   "source": [
    "import sympy as sp\n",
    "domain2 = np.concatenate(([-1], domain, [1]))\n"
   ]
  },
  {
   "cell_type": "code",
   "execution_count": 12,
   "id": "35225e00",
   "metadata": {},
   "outputs": [],
   "source": [
    "#define your obstacle accordingly\n",
    "def phi(x):\n",
    "    #return 1-2*(x**2)\n",
    "    #return np.sin(10*x)-np.sin(10)\n",
    "    #return -np.sin(5*np.pi*(x+1)/2)\n",
    "    return np.where((x > -0.5) & (x < 0.5), 3, -0.5)\n",
    "phi_x=phi(domain)\n"
   ]
  },
  {
   "cell_type": "code",
   "execution_count": 13,
   "id": "34e648fd",
   "metadata": {},
   "outputs": [],
   "source": [
    "u=np.zeros((N-1))\n",
    "lamda=np.zeros((N-1))\n"
   ]
  },
  {
   "cell_type": "code",
   "execution_count": 14,
   "id": "6b309d67",
   "metadata": {},
   "outputs": [],
   "source": [
    "def check(u,lamda):\n",
    "    c=1\n",
    "    result=lamda+c*(phi_x-u)\n",
    "    Ak=[]\n",
    "    Ik=[]\n",
    "    for i in range(N-1):\n",
    "        if(result[i]>0):\n",
    "            Ak.append(i)\n",
    "        if(result[i]<=0):\n",
    "            Ik.append(i)\n",
    "    Ak=np.array(Ak)\n",
    "    Ik=np.array(Ik)  \n",
    "     \n",
    "    return Ak,Ik,result"
   ]
  },
  {
   "cell_type": "code",
   "execution_count": 15,
   "id": "8f4a01d7",
   "metadata": {},
   "outputs": [
    {
     "name": "stdout",
     "output_type": "stream",
     "text": [
      "[25 26 27 28 29 30 31 32 33 34 35 36 37 38 39 40 41 42 43 44 45 46 47 48\n",
      " 49 50 51 52 53 54 55 56 57 58 59 60 61 62 63 64 65 66 67 68 69 70 71 72\n",
      " 73] [ 0  1  2  3  4  5  6  7  8  9 10 11 12 13 14 15 16 17 18 19 20 21 22 23\n",
      " 24 74 75 76 77 78 79 80 81 82 83 84 85 86 87 88 89 90 91 92 93 94 95 96\n",
      " 97 98] [-0.5 -0.5 -0.5 -0.5 -0.5 -0.5 -0.5 -0.5 -0.5 -0.5 -0.5 -0.5 -0.5 -0.5\n",
      " -0.5 -0.5 -0.5 -0.5 -0.5 -0.5 -0.5 -0.5 -0.5 -0.5 -0.5  3.   3.   3.\n",
      "  3.   3.   3.   3.   3.   3.   3.   3.   3.   3.   3.   3.   3.   3.\n",
      "  3.   3.   3.   3.   3.   3.   3.   3.   3.   3.   3.   3.   3.   3.\n",
      "  3.   3.   3.   3.   3.   3.   3.   3.   3.   3.   3.   3.   3.   3.\n",
      "  3.   3.   3.   3.  -0.5 -0.5 -0.5 -0.5 -0.5 -0.5 -0.5 -0.5 -0.5 -0.5\n",
      " -0.5 -0.5 -0.5 -0.5 -0.5 -0.5 -0.5 -0.5 -0.5 -0.5 -0.5 -0.5 -0.5 -0.5\n",
      " -0.5]\n"
     ]
    }
   ],
   "source": [
    "#Algorithm\n",
    "Ak,Ik,result=check(u,lamda)\n",
    "print(Ak,Ik,result)\n",
    "I = np.eye(N-1)\n",
    "if(len(Ak)>0):\n",
    "    u[Ak]=phi_x[Ak]\n",
    "    A_AkAk = A[np.ix_(Ak, Ak)]\n",
    "    I_AkAk = I[np.ix_(Ak, Ak)]\n",
    "    b_Ak= b[Ak]\n",
    "    u_Ak=phi_x[Ak]\n",
    "if(len(Ak)==0):\n",
    "    A_AkAk=np.zeros((len(Ak), len(Ak)))\n",
    "    I_AkAk=np.zeros((len(Ak), len(Ak)))\n",
    "    b_Ak=np.zeros(len(Ak))\n",
    "    u_Ak=np.zeros(len(Ak)) \n",
    "if(len(Ik)>0):\n",
    "    lamda[Ik]=0\n",
    "    A_IkIk = A[np.ix_(Ik, Ik)]\n",
    "    I_IkIk = I[np.ix_(Ik, Ik)]\n",
    "    b_Ik=b[Ik] \n",
    "if(len(Ik)==0):\n",
    "    A_IkIk=np.zeros((len(Ik), len(Ik)))\n",
    "    I_IkIk=np.zeros((len(Ik), len(Ik)))\n",
    "    b_Ik=np.zeros(len(Ik))\n",
    "if(len(Ak)>0 and len(Ik)>0):\n",
    "    A_AkIk = A[np.ix_(Ak, Ik)]\n",
    "    A_IkAk = A[np.ix_(Ik, Ak)]\n",
    "    I_AkIk = I[np.ix_(Ak, Ik)]\n",
    "    I_IkAk = I[np.ix_(Ik, Ak)]\n",
    "else:\n",
    "    A_AkIk = np.zeros((len(Ak), len(Ik)))\n",
    "    A_IkAk = np.zeros((len(Ik), len(Ak)))\n",
    "    I_AkIk = np.zeros((len(Ak), len(Ik)))\n",
    "    I_IkAk = np.zeros((len(Ik), len(Ak)))\n",
    "M = np.block([\n",
    "    [A_AkIk, -I_AkAk],\n",
    "    [A_IkIk, -I_IkAk]\n",
    "])\n",
    "N1 = np.block([\n",
    "    [b_Ak-A_AkAk@u_Ak,b_Ik-A_IkAk@u_Ak],\n",
    "])\n",
    "\n",
    "N1=N1.T\n",
    "\n",
    "x=np.linalg.solve(M,N1)\n",
    "x=x.reshape(-1)\n",
    "if(len(Ik)>0):\n",
    "    u[Ik]=x[:len(Ik)]\n",
    "if(len(Ak)>0):\n",
    "    lamda[Ak]=x[len(Ik):]\n",
    "\n",
    "    \n",
    "    \n",
    "    "
   ]
  },
  {
   "cell_type": "code",
   "execution_count": 16,
   "id": "2082591d",
   "metadata": {},
   "outputs": [
    {
     "name": "stdout",
     "output_type": "stream",
     "text": [
      "[25 26 27 28 29 30 31 32 33 34 35 36 37 38 39 40 41 42 43 44 45 46 47 48\n",
      " 49 50 51 52 53 54 55 56 57 58 59 60 61 62 63 64 65 66 67 68 69 70 71 72\n",
      " 73]\n",
      "1\n"
     ]
    }
   ],
   "source": [
    "count=1\n",
    "while(True):\n",
    "    Ak_new,Ik_new,result=check(u,lamda)\n",
    "    if(set(Ak_new)==set(Ak)):\n",
    "        print(Ak_new)\n",
    "        print(count)\n",
    "        break\n",
    "    \n",
    "    else:\n",
    "        print(Ik_new) \n",
    "        if(len(Ak_new)>0):\n",
    "            u[Ak_new]=phi_x[Ak_new]\n",
    "            A_AkAk = A[np.ix_(Ak_new, Ak_new)]\n",
    "            I_AkAk = I[np.ix_(Ak_new, Ak_new)]\n",
    "            b_Ak= b[Ak_new]\n",
    "            u_Ak=phi_x[Ak_new]\n",
    "        if(len(Ak_new)==0):\n",
    "            A_AkAk=np.zeros((len(Ak_new), len(Ak_new)))\n",
    "            I_AkAk=np.zeros((len(Ak_new), len(Ak_new)))\n",
    "            b_Ak=np.zeros(len(Ak_new))\n",
    "            u_Ak=np.zeros(len(Ak_new)) \n",
    "        if(len(Ik_new)>0):\n",
    "            lamda[Ik_new]=0\n",
    "            A_IkIk = A[np.ix_(Ik_new, Ik_new)]\n",
    "            I_IkIk = I[np.ix_(Ik_new, Ik_new)]\n",
    "            b_Ik=b[Ik_new] \n",
    "        if(len(Ik_new)==0):\n",
    "            A_IkIk=np.zeros((len(Ik_new), len(Ik_new)))\n",
    "            I_IkIk=np.zeros((len(Ik_new), len(Ik_new)))\n",
    "            b_Ik=np.zeros(len(Ik_new))\n",
    "        if(len(Ak_new)>0 and len(Ik_new)>0):\n",
    "            A_AkIk = A[np.ix_(Ak_new, Ik_new)]\n",
    "            A_IkAk = A[np.ix_(Ik_new, Ak_new)]\n",
    "            I_AkIk = I[np.ix_(Ak_new, Ik_new)]\n",
    "            I_IkAk = I[np.ix_(Ik_new, Ak_new)]\n",
    "        else:\n",
    "            A_AkIk = np.zeros((len(Ak_new), len(Ik_new)))\n",
    "            A_IkAk = np.zeros((len(Ik_new), len(Ak_new)))\n",
    "            I_AkIk = np.zeros((len(Ak_new), len(Ik_new)))\n",
    "            I_IkAk = np.zeros((len(Ik_new), len(Ak_new)))\n",
    "        M = np.block([\n",
    "            [A_AkIk, -I_AkAk],\n",
    "            [A_IkIk, -I_IkAk]\n",
    "        ])\n",
    "        N1 = np.block([\n",
    "            [b_Ak-A_AkAk@u_Ak,b_Ik-A_IkAk@u_Ak],\n",
    "        ])\n",
    "        N1=N1.T\n",
    "        x=np.linalg.solve(M,N1)\n",
    "        x=x.reshape(-1)\n",
    "        if(len(Ik_new)>0):\n",
    "            u[Ik_new]=x[:len(Ik_new)]\n",
    "        if(len(Ak_new)>0):\n",
    "            lamda[Ak_new]=x[len(Ik_new):]\n",
    "        count=count+1\n",
    "        Ak=Ak_new\n",
    "        Ik=Ik_new\n",
    "        \n",
    "        \n",
    "    "
   ]
  },
  {
   "cell_type": "code",
   "execution_count": 17,
   "id": "c08e2618",
   "metadata": {},
   "outputs": [],
   "source": [
    "import sympy as sp\n",
    "domain2 = np.concatenate(([-1], domain, [1]))\n"
   ]
  },
  {
   "cell_type": "code",
   "execution_count": 18,
   "id": "e44343c5",
   "metadata": {},
   "outputs": [],
   "source": [
    "x=sp.Symbol(\"x\")\n",
    "function=[]\n",
    "for i in range(N-1):\n",
    "    expr=[]\n",
    "    for j in range(N):\n",
    "        if(i==j):\n",
    "            f1=(x-domain2[i])/(domain2[i+1]-domain2[i])\n",
    "            expr.append(f1)\n",
    "        elif(j==(i+1)):\n",
    "            f2=(domain2[i+2]-x)/(domain2[i+2]-domain2[i+1])\n",
    "            expr.append(f2)\n",
    "        else:\n",
    "            expr.append(0)\n",
    "    function.append(expr)\n"
   ]
  },
  {
   "cell_type": "code",
   "execution_count": 19,
   "id": "f82c8454",
   "metadata": {},
   "outputs": [],
   "source": [
    "for i in range(N-1):\n",
    "    for j in range(N):\n",
    "        function[i][j]=function[i][j]*u[i]"
   ]
  },
  {
   "cell_type": "code",
   "execution_count": 20,
   "id": "5ce5b581",
   "metadata": {},
   "outputs": [
    {
     "data": {
      "image/png": "[encoded data removed]",
      "text/plain": [
       "<Figure size 640x480 with 1 Axes>"
      ]
     },
     "metadata": {},
     "output_type": "display_data"
    }
   ],
   "source": [
    "#plot your obstacle accordingly\n",
    "x=sp.Symbol(\"x\")\n",
    "plotarg=[]\n",
    "for i in range(N-1):\n",
    "    for j in range(N):\n",
    "        if(i==j==0):\n",
    "            plotarg.append((function[0][0],(x,-1,-1+2/N)))\n",
    "        elif(i==N-2 and j==N-1):\n",
    "            plotarg.append((function[i][j],(x,-1+(2*(N-1))/N,1)))\n",
    "        elif(i==j!=0):\n",
    "            plotarg.append((function[i-1][j]+function[i][j],(x,-1+(2*j)/N,-1+(2*(j+1))/N)))\n",
    "#plotarg.append((1-2*(x**2),(x,-1,1)))\n",
    "#plotarg.append((sp.sin(10*x)-sp.sin(10),(x,-1,1)))\n",
    "plotarg.append((-sp.sin(5*sp.pi*(x+1)/2),(x,-1,1)))\n",
    "#plotarg.append((3,(x,0.5,-0.5)))\n",
    "#plotarg.append((-0.5,(x,-1,-0.5)))\n",
    "#plotarg.append((-0.5,(x,0.5,1)))\n",
    "p = sp.plot(*plotarg, show=False)\n",
    "p.show() "
   ]
  }
 ],
 "metadata": {
  "kernelspec": {
   "display_name": "base",
   "language": "python",
   "name": "python3"
  },
  "language_info": {
   "codemirror_mode": {
    "name": "ipython",
    "version": 3
   },
   "file_extension": ".py",
   "mimetype": "text/x-python",
   "name": "python",
   "nbconvert_exporter": "python",
   "pygments_lexer": "ipython3",
   "version": "3.11.5"
  }
 },
 "nbformat": 4,
 "nbformat_minor": 5
}
